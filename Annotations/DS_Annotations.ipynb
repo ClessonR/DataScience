{
 "cells": [
  {
   "cell_type": "markdown",
   "id": "3b96e28d",
   "metadata": {},
   "source": [
    "# Data Science Course Annotations"
   ]
  },
  {
   "cell_type": "markdown",
   "id": "299696e2",
   "metadata": {},
   "source": [
    "## Log Transformation"
   ]
  },
  {
   "cell_type": "markdown",
   "id": "f5b5c241",
   "metadata": {},
   "source": [
    "It's a method which transform each data point x into **log(x)**.\n",
    "\n",
    "---\n",
    "After observing the data if the plot does not fit into the bell curve. A log transformation will be able to make that data \"as normal as possible\" to fit into a **normal distribution**, to then be used for a linear regression."
   ]
  },
  {
   "cell_type": "markdown",
   "id": "f600c1f7",
   "metadata": {},
   "source": []
  },
  {
   "cell_type": "markdown",
   "id": "7f00cf74",
   "metadata": {},
   "source": []
  }
 ],
 "metadata": {
  "kernelspec": {
   "display_name": "Python 3 (ipykernel)",
   "language": "python",
   "name": "python3"
  },
  "language_info": {
   "codemirror_mode": {
    "name": "ipython",
    "version": 3
   },
   "file_extension": ".py",
   "mimetype": "text/x-python",
   "name": "python",
   "nbconvert_exporter": "python",
   "pygments_lexer": "ipython3",
   "version": "3.9.7"
  }
 },
 "nbformat": 4,
 "nbformat_minor": 5
}
