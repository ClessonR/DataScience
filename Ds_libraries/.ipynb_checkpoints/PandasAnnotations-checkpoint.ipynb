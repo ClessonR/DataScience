{
 "cells": [
  {
   "cell_type": "markdown",
   "id": "d1483794",
   "metadata": {},
   "source": [
    "# Pandas Python Library"
   ]
  },
  {
   "cell_type": "code",
   "execution_count": 1,
   "id": "29eafcd5",
   "metadata": {},
   "outputs": [],
   "source": [
    "import pandas as pd"
   ]
  },
  {
   "cell_type": "markdown",
   "id": "ba62d7be",
   "metadata": {},
   "source": [
    "Pandas is based on two core fundamentals **DataFrames and Series**."
   ]
  },
  {
   "cell_type": "markdown",
   "id": "2ec3b67b",
   "metadata": {},
   "source": [
    "## Dataframe"
   ]
  },
  {
   "cell_type": "markdown",
   "id": "b1023b35",
   "metadata": {},
   "source": [
    "A **DataFrame** it's basically a matrix of data elements. Each entry corresponds to a row and a column."
   ]
  },
  {
   "cell_type": "code",
   "execution_count": 9,
   "id": "36274075",
   "metadata": {},
   "outputs": [
    {
     "data": {
      "text/html": [
       "<div>\n",
       "<style scoped>\n",
       "    .dataframe tbody tr th:only-of-type {\n",
       "        vertical-align: middle;\n",
       "    }\n",
       "\n",
       "    .dataframe tbody tr th {\n",
       "        vertical-align: top;\n",
       "    }\n",
       "\n",
       "    .dataframe thead th {\n",
       "        text-align: right;\n",
       "    }\n",
       "</style>\n",
       "<table border=\"1\" class=\"dataframe\">\n",
       "  <thead>\n",
       "    <tr style=\"text-align: right;\">\n",
       "      <th></th>\n",
       "      <th>Bob</th>\n",
       "      <th>Sue</th>\n",
       "    </tr>\n",
       "  </thead>\n",
       "  <tbody>\n",
       "    <tr>\n",
       "      <th>Product A</th>\n",
       "      <td>I liked it</td>\n",
       "      <td>Pretty good.</td>\n",
       "    </tr>\n",
       "    <tr>\n",
       "      <th>Product B</th>\n",
       "      <td>It was awful.</td>\n",
       "      <td>Product B</td>\n",
       "    </tr>\n",
       "  </tbody>\n",
       "</table>\n",
       "</div>"
      ],
      "text/plain": [
       "                     Bob           Sue\n",
       "Product A     I liked it  Pretty good.\n",
       "Product B  It was awful.     Product B"
      ]
     },
     "execution_count": 9,
     "metadata": {},
     "output_type": "execute_result"
    }
   ],
   "source": [
    "# We may use the pd.DataFrame() constructor in order to create DataFrame objects i.e.\n",
    "pd.DataFrame({'Bob':['I liked it', 'It was awful.'], 'Sue':['Pretty good.', 'Product B']}, index=['Product A', 'Product B'])\n",
    "# The Dictionary-list pair is used in order to assign a column/row pair, and the index flag is used to substitute\n",
    "# the auto generated 0,1,2,.. index with a known one."
   ]
  },
  {
   "cell_type": "markdown",
   "id": "de273982",
   "metadata": {},
   "source": [
    "## Series"
   ]
  },
  {
   "cell_type": "markdown",
   "id": "67851e00",
   "metadata": {},
   "source": [
    "A **series** is basically a list, as opposed of a dataframe being a matrix."
   ]
  },
  {
   "cell_type": "code",
   "execution_count": 19,
   "id": "b55f35fa",
   "metadata": {},
   "outputs": [
    {
     "data": {
      "text/plain": [
       "2015 Data    30\n",
       "2016 Data    45\n",
       "2017 Data    40\n",
       "2018 Data    35\n",
       "Name: Product A Records, dtype: int64"
      ]
     },
     "execution_count": 19,
     "metadata": {},
     "output_type": "execute_result"
    }
   ],
   "source": [
    "#i.e.\n",
    "pd.Series([30, 45, 40, 35], index=['2015 Data', '2016 Data', '2017 Data', '2018 Data'], name = 'Product A Records')\n",
    "# The index and name flags may also be used in the same way in Series"
   ]
  },
  {
   "cell_type": "markdown",
   "id": "add18be6",
   "metadata": {},
   "source": [
    "In order to **read already existing Dataframes** the .read_csv() pandas method must be used. "
   ]
  },
  {
   "cell_type": "code",
   "execution_count": 20,
   "id": "f4709de3",
   "metadata": {},
   "outputs": [],
   "source": [
    "main_data = pd.read_csv('Categorical.csv')"
   ]
  },
  {
   "cell_type": "code",
   "execution_count": 21,
   "id": "6fbd3d6c",
   "metadata": {},
   "outputs": [
    {
     "data": {
      "text/plain": [
       "(241, 4)"
      ]
     },
     "execution_count": 21,
     "metadata": {},
     "output_type": "execute_result"
    }
   ],
   "source": [
    "# The shape() method may be used to check the dataframe size.\n",
    "data.shape"
   ]
  },
  {
   "cell_type": "code",
   "execution_count": 22,
   "id": "12e77e8e",
   "metadata": {},
   "outputs": [
    {
     "data": {
      "text/html": [
       "<div>\n",
       "<style scoped>\n",
       "    .dataframe tbody tr th:only-of-type {\n",
       "        vertical-align: middle;\n",
       "    }\n",
       "\n",
       "    .dataframe tbody tr th {\n",
       "        vertical-align: top;\n",
       "    }\n",
       "\n",
       "    .dataframe thead th {\n",
       "        text-align: right;\n",
       "    }\n",
       "</style>\n",
       "<table border=\"1\" class=\"dataframe\">\n",
       "  <thead>\n",
       "    <tr style=\"text-align: right;\">\n",
       "      <th></th>\n",
       "      <th>name</th>\n",
       "      <th>Longitude</th>\n",
       "      <th>Latitude</th>\n",
       "      <th>continent</th>\n",
       "    </tr>\n",
       "  </thead>\n",
       "  <tbody>\n",
       "    <tr>\n",
       "      <th>0</th>\n",
       "      <td>Aruba</td>\n",
       "      <td>-69.982677</td>\n",
       "      <td>12.520880</td>\n",
       "      <td>North America</td>\n",
       "    </tr>\n",
       "    <tr>\n",
       "      <th>1</th>\n",
       "      <td>Afghanistan</td>\n",
       "      <td>66.004734</td>\n",
       "      <td>33.835231</td>\n",
       "      <td>Asia</td>\n",
       "    </tr>\n",
       "    <tr>\n",
       "      <th>2</th>\n",
       "      <td>Angola</td>\n",
       "      <td>17.537368</td>\n",
       "      <td>-12.293361</td>\n",
       "      <td>Africa</td>\n",
       "    </tr>\n",
       "    <tr>\n",
       "      <th>3</th>\n",
       "      <td>Anguilla</td>\n",
       "      <td>-63.064989</td>\n",
       "      <td>18.223959</td>\n",
       "      <td>North America</td>\n",
       "    </tr>\n",
       "    <tr>\n",
       "      <th>4</th>\n",
       "      <td>Albania</td>\n",
       "      <td>20.049834</td>\n",
       "      <td>41.142450</td>\n",
       "      <td>Europe</td>\n",
       "    </tr>\n",
       "  </tbody>\n",
       "</table>\n",
       "</div>"
      ],
      "text/plain": [
       "          name  Longitude   Latitude      continent\n",
       "0        Aruba -69.982677  12.520880  North America\n",
       "1  Afghanistan  66.004734  33.835231           Asia\n",
       "2       Angola  17.537368 -12.293361         Africa\n",
       "3     Anguilla -63.064989  18.223959  North America\n",
       "4      Albania  20.049834  41.142450         Europe"
      ]
     },
     "execution_count": 22,
     "metadata": {},
     "output_type": "execute_result"
    }
   ],
   "source": [
    "main_data.head()\n",
    "# Head is extremely used in order to take a first look at the data, a number may also be passed into the function to print more rows"
   ]
  },
  {
   "cell_type": "code",
   "execution_count": 24,
   "id": "da0cb4e3",
   "metadata": {},
   "outputs": [],
   "source": [
    "# To write a DataFrame into the disk the to_csv() method is utilized.\n",
    "# i.e. main_data.to_csv(\"testing_write.csv\") Saving main_data dataframe as testing write in the current directory"
   ]
  },
  {
   "cell_type": "markdown",
   "id": "1b1688e8",
   "metadata": {},
   "source": [
    "# Inserting, Selecting and Assigning"
   ]
  },
  {
   "cell_type": "code",
   "execution_count": 25,
   "id": "81cb078c",
   "metadata": {},
   "outputs": [
    {
     "data": {
      "text/html": [
       "<div>\n",
       "<style scoped>\n",
       "    .dataframe tbody tr th:only-of-type {\n",
       "        vertical-align: middle;\n",
       "    }\n",
       "\n",
       "    .dataframe tbody tr th {\n",
       "        vertical-align: top;\n",
       "    }\n",
       "\n",
       "    .dataframe thead th {\n",
       "        text-align: right;\n",
       "    }\n",
       "</style>\n",
       "<table border=\"1\" class=\"dataframe\">\n",
       "  <thead>\n",
       "    <tr style=\"text-align: right;\">\n",
       "      <th></th>\n",
       "      <th>name</th>\n",
       "      <th>Longitude</th>\n",
       "      <th>Latitude</th>\n",
       "      <th>continent</th>\n",
       "    </tr>\n",
       "  </thead>\n",
       "  <tbody>\n",
       "    <tr>\n",
       "      <th>0</th>\n",
       "      <td>Aruba</td>\n",
       "      <td>-69.982677</td>\n",
       "      <td>12.520880</td>\n",
       "      <td>North America</td>\n",
       "    </tr>\n",
       "    <tr>\n",
       "      <th>1</th>\n",
       "      <td>Afghanistan</td>\n",
       "      <td>66.004734</td>\n",
       "      <td>33.835231</td>\n",
       "      <td>Asia</td>\n",
       "    </tr>\n",
       "    <tr>\n",
       "      <th>2</th>\n",
       "      <td>Angola</td>\n",
       "      <td>17.537368</td>\n",
       "      <td>-12.293361</td>\n",
       "      <td>Africa</td>\n",
       "    </tr>\n",
       "    <tr>\n",
       "      <th>3</th>\n",
       "      <td>Anguilla</td>\n",
       "      <td>-63.064989</td>\n",
       "      <td>18.223959</td>\n",
       "      <td>North America</td>\n",
       "    </tr>\n",
       "    <tr>\n",
       "      <th>4</th>\n",
       "      <td>Albania</td>\n",
       "      <td>20.049834</td>\n",
       "      <td>41.142450</td>\n",
       "      <td>Europe</td>\n",
       "    </tr>\n",
       "    <tr>\n",
       "      <th>...</th>\n",
       "      <td>...</td>\n",
       "      <td>...</td>\n",
       "      <td>...</td>\n",
       "      <td>...</td>\n",
       "    </tr>\n",
       "    <tr>\n",
       "      <th>236</th>\n",
       "      <td>Samoa</td>\n",
       "      <td>-172.164851</td>\n",
       "      <td>-13.753243</td>\n",
       "      <td>Oceania</td>\n",
       "    </tr>\n",
       "    <tr>\n",
       "      <th>237</th>\n",
       "      <td>Yemen</td>\n",
       "      <td>47.586762</td>\n",
       "      <td>15.909280</td>\n",
       "      <td>Asia</td>\n",
       "    </tr>\n",
       "    <tr>\n",
       "      <th>238</th>\n",
       "      <td>South Africa</td>\n",
       "      <td>25.083901</td>\n",
       "      <td>-29.000341</td>\n",
       "      <td>Africa</td>\n",
       "    </tr>\n",
       "    <tr>\n",
       "      <th>239</th>\n",
       "      <td>Zambia</td>\n",
       "      <td>27.774759</td>\n",
       "      <td>-13.458242</td>\n",
       "      <td>Africa</td>\n",
       "    </tr>\n",
       "    <tr>\n",
       "      <th>240</th>\n",
       "      <td>Zimbabwe</td>\n",
       "      <td>29.851441</td>\n",
       "      <td>-19.004204</td>\n",
       "      <td>Africa</td>\n",
       "    </tr>\n",
       "  </tbody>\n",
       "</table>\n",
       "<p>241 rows × 4 columns</p>\n",
       "</div>"
      ],
      "text/plain": [
       "             name   Longitude   Latitude      continent\n",
       "0           Aruba  -69.982677  12.520880  North America\n",
       "1     Afghanistan   66.004734  33.835231           Asia\n",
       "2          Angola   17.537368 -12.293361         Africa\n",
       "3        Anguilla  -63.064989  18.223959  North America\n",
       "4         Albania   20.049834  41.142450         Europe\n",
       "..            ...         ...        ...            ...\n",
       "236         Samoa -172.164851 -13.753243        Oceania\n",
       "237         Yemen   47.586762  15.909280           Asia\n",
       "238  South Africa   25.083901 -29.000341         Africa\n",
       "239        Zambia   27.774759 -13.458242         Africa\n",
       "240      Zimbabwe   29.851441 -19.004204         Africa\n",
       "\n",
       "[241 rows x 4 columns]"
      ]
     },
     "execution_count": 25,
     "metadata": {},
     "output_type": "execute_result"
    }
   ],
   "source": [
    "main_data"
   ]
  },
  {
   "cell_type": "code",
   "execution_count": 26,
   "id": "fe29f4a8",
   "metadata": {},
   "outputs": [
    {
     "data": {
      "text/plain": [
       "0             Aruba\n",
       "1       Afghanistan\n",
       "2            Angola\n",
       "3          Anguilla\n",
       "4           Albania\n",
       "           ...     \n",
       "236           Samoa\n",
       "237           Yemen\n",
       "238    South Africa\n",
       "239          Zambia\n",
       "240        Zimbabwe\n",
       "Name: name, Length: 241, dtype: object"
      ]
     },
     "execution_count": 26,
     "metadata": {},
     "output_type": "execute_result"
    }
   ],
   "source": [
    "# To access an attribute a simple selection can me made.\n",
    "main_data.name"
   ]
  },
  {
   "cell_type": "code",
   "execution_count": 27,
   "id": "f45b42f6",
   "metadata": {},
   "outputs": [
    {
     "data": {
      "text/plain": [
       "0             Aruba\n",
       "1       Afghanistan\n",
       "2            Angola\n",
       "3          Anguilla\n",
       "4           Albania\n",
       "           ...     \n",
       "236           Samoa\n",
       "237           Yemen\n",
       "238    South Africa\n",
       "239          Zambia\n",
       "240        Zimbabwe\n",
       "Name: name, Length: 241, dtype: object"
      ]
     },
     "execution_count": 27,
     "metadata": {},
     "output_type": "execute_result"
    }
   ],
   "source": [
    "# The same thing can be done with the Dictionary-Key built-in Python Function\n",
    "main_data['name']"
   ]
  },
  {
   "cell_type": "code",
   "execution_count": 33,
   "id": "9116cfe7",
   "metadata": {},
   "outputs": [
    {
     "data": {
      "text/plain": [
       "'Aruba'"
      ]
     },
     "execution_count": 33,
     "metadata": {},
     "output_type": "execute_result"
    }
   ],
   "source": [
    "main_data['name'][0]"
   ]
  },
  {
   "cell_type": "markdown",
   "id": "a2f404dc",
   "metadata": {},
   "source": [
    "## Pandas Indexing"
   ]
  },
  {
   "cell_type": "markdown",
   "id": "104aa138",
   "metadata": {},
   "source": [
    "## Index-Based Selection"
   ]
  },
  {
   "cell_type": "code",
   "execution_count": 34,
   "id": "ae8e847b",
   "metadata": {},
   "outputs": [
    {
     "data": {
      "text/plain": [
       "name                 Aruba\n",
       "Longitude       -69.982677\n",
       "Latitude          12.52088\n",
       "continent    North America\n",
       "Name: 0, dtype: object"
      ]
     },
     "execution_count": 34,
     "metadata": {},
     "output_type": "execute_result"
    }
   ],
   "source": [
    "# Pandas has it's own index selection operators they're called loc and iloc. \n",
    "main_data.iloc[0] # To select the first row"
   ]
  },
  {
   "cell_type": "code",
   "execution_count": 35,
   "id": "2cd85e79",
   "metadata": {},
   "outputs": [
    {
     "data": {
      "text/plain": [
       "0             Aruba\n",
       "1       Afghanistan\n",
       "2            Angola\n",
       "3          Anguilla\n",
       "4           Albania\n",
       "           ...     \n",
       "236           Samoa\n",
       "237           Yemen\n",
       "238    South Africa\n",
       "239          Zambia\n",
       "240        Zimbabwe\n",
       "Name: name, Length: 241, dtype: object"
      ]
     },
     "execution_count": 35,
     "metadata": {},
     "output_type": "execute_result"
    }
   ],
   "source": [
    "main_data.iloc[:,0] # To retrieve the full column"
   ]
  },
  {
   "cell_type": "markdown",
   "id": "7ebe71b5",
   "metadata": {},
   "source": [
    "## Label-based Selection"
   ]
  },
  {
   "cell_type": "code",
   "execution_count": 36,
   "id": "8661f5db",
   "metadata": {},
   "outputs": [
    {
     "data": {
      "text/plain": [
       "'Aruba'"
      ]
     },
     "execution_count": 36,
     "metadata": {},
     "output_type": "execute_result"
    }
   ],
   "source": [
    "main_data.loc[0,'name']"
   ]
  },
  {
   "cell_type": "code",
   "execution_count": null,
   "id": "3f44a8ec",
   "metadata": {},
   "outputs": [],
   "source": []
  }
 ],
 "metadata": {
  "kernelspec": {
   "display_name": "Python 3 (ipykernel)",
   "language": "python",
   "name": "python3"
  },
  "language_info": {
   "codemirror_mode": {
    "name": "ipython",
    "version": 3
   },
   "file_extension": ".py",
   "mimetype": "text/x-python",
   "name": "python",
   "nbconvert_exporter": "python",
   "pygments_lexer": "ipython3",
   "version": "3.10.5"
  }
 },
 "nbformat": 4,
 "nbformat_minor": 5
}
