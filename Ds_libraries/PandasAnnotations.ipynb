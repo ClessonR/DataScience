{
 "cells": [
  {
   "cell_type": "markdown",
   "id": "d1483794",
   "metadata": {},
   "source": [
    "# Pandas Python Library"
   ]
  },
  {
   "cell_type": "code",
   "execution_count": 1,
   "id": "29eafcd5",
   "metadata": {},
   "outputs": [],
   "source": [
    "import pandas as pd"
   ]
  },
  {
   "cell_type": "markdown",
   "id": "ba62d7be",
   "metadata": {},
   "source": [
    "Pandas is based on two core fundamentals **DataFrames and Series**."
   ]
  },
  {
   "cell_type": "markdown",
   "id": "2ec3b67b",
   "metadata": {},
   "source": [
    "## Dataframe"
   ]
  },
  {
   "cell_type": "markdown",
   "id": "b1023b35",
   "metadata": {},
   "source": [
    "A **DataFrame** it's basically a matrix of data elements. Each entry corresponds to a row and a column."
   ]
  },
  {
   "cell_type": "code",
   "execution_count": 2,
   "id": "36274075",
   "metadata": {},
   "outputs": [
    {
     "data": {
      "text/html": [
       "<div>\n",
       "<style scoped>\n",
       "    .dataframe tbody tr th:only-of-type {\n",
       "        vertical-align: middle;\n",
       "    }\n",
       "\n",
       "    .dataframe tbody tr th {\n",
       "        vertical-align: top;\n",
       "    }\n",
       "\n",
       "    .dataframe thead th {\n",
       "        text-align: right;\n",
       "    }\n",
       "</style>\n",
       "<table border=\"1\" class=\"dataframe\">\n",
       "  <thead>\n",
       "    <tr style=\"text-align: right;\">\n",
       "      <th></th>\n",
       "      <th>Bob</th>\n",
       "      <th>Sue</th>\n",
       "    </tr>\n",
       "  </thead>\n",
       "  <tbody>\n",
       "    <tr>\n",
       "      <th>Product A</th>\n",
       "      <td>I liked it</td>\n",
       "      <td>Pretty good.</td>\n",
       "    </tr>\n",
       "    <tr>\n",
       "      <th>Product B</th>\n",
       "      <td>It was awful.</td>\n",
       "      <td>Product B</td>\n",
       "    </tr>\n",
       "  </tbody>\n",
       "</table>\n",
       "</div>"
      ],
      "text/plain": [
       "                     Bob           Sue\n",
       "Product A     I liked it  Pretty good.\n",
       "Product B  It was awful.     Product B"
      ]
     },
     "execution_count": 2,
     "metadata": {},
     "output_type": "execute_result"
    }
   ],
   "source": [
    "# We may use the pd.DataFrame() constructor in order to create DataFrame objects i.e.\n",
    "pd.DataFrame({'Bob':['I liked it', 'It was awful.'], 'Sue':['Pretty good.', 'Product B']}, index=['Product A', 'Product B'])\n",
    "# The Dictionary-list pair is used in order to assign a column/row pair, and the index flag is used to substitute\n",
    "# the auto generated 0,1,2,.. index with a known one."
   ]
  },
  {
   "cell_type": "markdown",
   "id": "de273982",
   "metadata": {},
   "source": [
    "## Series"
   ]
  },
  {
   "cell_type": "markdown",
   "id": "67851e00",
   "metadata": {},
   "source": [
    "A **series** is basically a list, as opposed of a dataframe being a matrix."
   ]
  },
  {
   "cell_type": "code",
   "execution_count": 3,
   "id": "b55f35fa",
   "metadata": {},
   "outputs": [
    {
     "data": {
      "text/plain": [
       "2015 Data    30\n",
       "2016 Data    45\n",
       "2017 Data    40\n",
       "2018 Data    35\n",
       "Name: Product A Records, dtype: int64"
      ]
     },
     "execution_count": 3,
     "metadata": {},
     "output_type": "execute_result"
    }
   ],
   "source": [
    "#i.e.\n",
    "pd.Series([30, 45, 40, 35], index=['2015 Data', '2016 Data', '2017 Data', '2018 Data'], name = 'Product A Records')\n",
    "# The index and name flags may also be used in the same way in Series"
   ]
  },
  {
   "cell_type": "markdown",
   "id": "add18be6",
   "metadata": {},
   "source": [
    "In order to **read already existing Dataframes** the .read_csv() pandas method must be used. "
   ]
  },
  {
   "cell_type": "code",
   "execution_count": 4,
   "id": "f4709de3",
   "metadata": {},
   "outputs": [],
   "source": [
    "main_data = pd.read_csv('Categorical.csv')"
   ]
  },
  {
   "cell_type": "code",
   "execution_count": 5,
   "id": "6fbd3d6c",
   "metadata": {},
   "outputs": [
    {
     "data": {
      "text/plain": [
       "(241, 4)"
      ]
     },
     "execution_count": 5,
     "metadata": {},
     "output_type": "execute_result"
    }
   ],
   "source": [
    "# The shape() method may be used to check the dataframe size.\n",
    "main_data.shape"
   ]
  },
  {
   "cell_type": "code",
   "execution_count": 6,
   "id": "12e77e8e",
   "metadata": {},
   "outputs": [
    {
     "data": {
      "text/html": [
       "<div>\n",
       "<style scoped>\n",
       "    .dataframe tbody tr th:only-of-type {\n",
       "        vertical-align: middle;\n",
       "    }\n",
       "\n",
       "    .dataframe tbody tr th {\n",
       "        vertical-align: top;\n",
       "    }\n",
       "\n",
       "    .dataframe thead th {\n",
       "        text-align: right;\n",
       "    }\n",
       "</style>\n",
       "<table border=\"1\" class=\"dataframe\">\n",
       "  <thead>\n",
       "    <tr style=\"text-align: right;\">\n",
       "      <th></th>\n",
       "      <th>name</th>\n",
       "      <th>Longitude</th>\n",
       "      <th>Latitude</th>\n",
       "      <th>continent</th>\n",
       "    </tr>\n",
       "  </thead>\n",
       "  <tbody>\n",
       "    <tr>\n",
       "      <th>0</th>\n",
       "      <td>Aruba</td>\n",
       "      <td>-69.982677</td>\n",
       "      <td>12.520880</td>\n",
       "      <td>North America</td>\n",
       "    </tr>\n",
       "    <tr>\n",
       "      <th>1</th>\n",
       "      <td>Afghanistan</td>\n",
       "      <td>66.004734</td>\n",
       "      <td>33.835231</td>\n",
       "      <td>Asia</td>\n",
       "    </tr>\n",
       "    <tr>\n",
       "      <th>2</th>\n",
       "      <td>Angola</td>\n",
       "      <td>17.537368</td>\n",
       "      <td>-12.293361</td>\n",
       "      <td>Africa</td>\n",
       "    </tr>\n",
       "    <tr>\n",
       "      <th>3</th>\n",
       "      <td>Anguilla</td>\n",
       "      <td>-63.064989</td>\n",
       "      <td>18.223959</td>\n",
       "      <td>North America</td>\n",
       "    </tr>\n",
       "    <tr>\n",
       "      <th>4</th>\n",
       "      <td>Albania</td>\n",
       "      <td>20.049834</td>\n",
       "      <td>41.142450</td>\n",
       "      <td>Europe</td>\n",
       "    </tr>\n",
       "  </tbody>\n",
       "</table>\n",
       "</div>"
      ],
      "text/plain": [
       "          name  Longitude   Latitude      continent\n",
       "0        Aruba -69.982677  12.520880  North America\n",
       "1  Afghanistan  66.004734  33.835231           Asia\n",
       "2       Angola  17.537368 -12.293361         Africa\n",
       "3     Anguilla -63.064989  18.223959  North America\n",
       "4      Albania  20.049834  41.142450         Europe"
      ]
     },
     "execution_count": 6,
     "metadata": {},
     "output_type": "execute_result"
    }
   ],
   "source": [
    "main_data.head()\n",
    "# Head is extremely used in order to take a first look at the data, a number may also be passed into the function to print more rows"
   ]
  },
  {
   "cell_type": "code",
   "execution_count": 7,
   "id": "da0cb4e3",
   "metadata": {},
   "outputs": [],
   "source": [
    "# To write a DataFrame into the disk the to_csv() method is utilized.\n",
    "# i.e. main_data.to_csv(\"testing_write.csv\") Saving main_data dataframe as testing write in the current directory"
   ]
  },
  {
   "cell_type": "markdown",
   "id": "1b1688e8",
   "metadata": {},
   "source": [
    "# Inserting, Selecting and Assigning"
   ]
  },
  {
   "cell_type": "code",
   "execution_count": 8,
   "id": "81cb078c",
   "metadata": {},
   "outputs": [
    {
     "data": {
      "text/html": [
       "<div>\n",
       "<style scoped>\n",
       "    .dataframe tbody tr th:only-of-type {\n",
       "        vertical-align: middle;\n",
       "    }\n",
       "\n",
       "    .dataframe tbody tr th {\n",
       "        vertical-align: top;\n",
       "    }\n",
       "\n",
       "    .dataframe thead th {\n",
       "        text-align: right;\n",
       "    }\n",
       "</style>\n",
       "<table border=\"1\" class=\"dataframe\">\n",
       "  <thead>\n",
       "    <tr style=\"text-align: right;\">\n",
       "      <th></th>\n",
       "      <th>name</th>\n",
       "      <th>Longitude</th>\n",
       "      <th>Latitude</th>\n",
       "      <th>continent</th>\n",
       "    </tr>\n",
       "  </thead>\n",
       "  <tbody>\n",
       "    <tr>\n",
       "      <th>0</th>\n",
       "      <td>Aruba</td>\n",
       "      <td>-69.982677</td>\n",
       "      <td>12.520880</td>\n",
       "      <td>North America</td>\n",
       "    </tr>\n",
       "    <tr>\n",
       "      <th>1</th>\n",
       "      <td>Afghanistan</td>\n",
       "      <td>66.004734</td>\n",
       "      <td>33.835231</td>\n",
       "      <td>Asia</td>\n",
       "    </tr>\n",
       "    <tr>\n",
       "      <th>2</th>\n",
       "      <td>Angola</td>\n",
       "      <td>17.537368</td>\n",
       "      <td>-12.293361</td>\n",
       "      <td>Africa</td>\n",
       "    </tr>\n",
       "    <tr>\n",
       "      <th>3</th>\n",
       "      <td>Anguilla</td>\n",
       "      <td>-63.064989</td>\n",
       "      <td>18.223959</td>\n",
       "      <td>North America</td>\n",
       "    </tr>\n",
       "    <tr>\n",
       "      <th>4</th>\n",
       "      <td>Albania</td>\n",
       "      <td>20.049834</td>\n",
       "      <td>41.142450</td>\n",
       "      <td>Europe</td>\n",
       "    </tr>\n",
       "    <tr>\n",
       "      <th>...</th>\n",
       "      <td>...</td>\n",
       "      <td>...</td>\n",
       "      <td>...</td>\n",
       "      <td>...</td>\n",
       "    </tr>\n",
       "    <tr>\n",
       "      <th>236</th>\n",
       "      <td>Samoa</td>\n",
       "      <td>-172.164851</td>\n",
       "      <td>-13.753243</td>\n",
       "      <td>Oceania</td>\n",
       "    </tr>\n",
       "    <tr>\n",
       "      <th>237</th>\n",
       "      <td>Yemen</td>\n",
       "      <td>47.586762</td>\n",
       "      <td>15.909280</td>\n",
       "      <td>Asia</td>\n",
       "    </tr>\n",
       "    <tr>\n",
       "      <th>238</th>\n",
       "      <td>South Africa</td>\n",
       "      <td>25.083901</td>\n",
       "      <td>-29.000341</td>\n",
       "      <td>Africa</td>\n",
       "    </tr>\n",
       "    <tr>\n",
       "      <th>239</th>\n",
       "      <td>Zambia</td>\n",
       "      <td>27.774759</td>\n",
       "      <td>-13.458242</td>\n",
       "      <td>Africa</td>\n",
       "    </tr>\n",
       "    <tr>\n",
       "      <th>240</th>\n",
       "      <td>Zimbabwe</td>\n",
       "      <td>29.851441</td>\n",
       "      <td>-19.004204</td>\n",
       "      <td>Africa</td>\n",
       "    </tr>\n",
       "  </tbody>\n",
       "</table>\n",
       "<p>241 rows × 4 columns</p>\n",
       "</div>"
      ],
      "text/plain": [
       "             name   Longitude   Latitude      continent\n",
       "0           Aruba  -69.982677  12.520880  North America\n",
       "1     Afghanistan   66.004734  33.835231           Asia\n",
       "2          Angola   17.537368 -12.293361         Africa\n",
       "3        Anguilla  -63.064989  18.223959  North America\n",
       "4         Albania   20.049834  41.142450         Europe\n",
       "..            ...         ...        ...            ...\n",
       "236         Samoa -172.164851 -13.753243        Oceania\n",
       "237         Yemen   47.586762  15.909280           Asia\n",
       "238  South Africa   25.083901 -29.000341         Africa\n",
       "239        Zambia   27.774759 -13.458242         Africa\n",
       "240      Zimbabwe   29.851441 -19.004204         Africa\n",
       "\n",
       "[241 rows x 4 columns]"
      ]
     },
     "execution_count": 8,
     "metadata": {},
     "output_type": "execute_result"
    }
   ],
   "source": [
    "main_data"
   ]
  },
  {
   "cell_type": "code",
   "execution_count": 9,
   "id": "fe29f4a8",
   "metadata": {},
   "outputs": [
    {
     "data": {
      "text/plain": [
       "0             Aruba\n",
       "1       Afghanistan\n",
       "2            Angola\n",
       "3          Anguilla\n",
       "4           Albania\n",
       "           ...     \n",
       "236           Samoa\n",
       "237           Yemen\n",
       "238    South Africa\n",
       "239          Zambia\n",
       "240        Zimbabwe\n",
       "Name: name, Length: 241, dtype: object"
      ]
     },
     "execution_count": 9,
     "metadata": {},
     "output_type": "execute_result"
    }
   ],
   "source": [
    "# To access an attribute a simple selection can me made.\n",
    "main_data.name"
   ]
  },
  {
   "cell_type": "code",
   "execution_count": 10,
   "id": "f45b42f6",
   "metadata": {},
   "outputs": [
    {
     "data": {
      "text/plain": [
       "0             Aruba\n",
       "1       Afghanistan\n",
       "2            Angola\n",
       "3          Anguilla\n",
       "4           Albania\n",
       "           ...     \n",
       "236           Samoa\n",
       "237           Yemen\n",
       "238    South Africa\n",
       "239          Zambia\n",
       "240        Zimbabwe\n",
       "Name: name, Length: 241, dtype: object"
      ]
     },
     "execution_count": 10,
     "metadata": {},
     "output_type": "execute_result"
    }
   ],
   "source": [
    "# The same thing can be done with the Dictionary-Key built-in Python Function\n",
    "main_data['name']"
   ]
  },
  {
   "cell_type": "code",
   "execution_count": 11,
   "id": "9116cfe7",
   "metadata": {},
   "outputs": [
    {
     "data": {
      "text/plain": [
       "'Aruba'"
      ]
     },
     "execution_count": 11,
     "metadata": {},
     "output_type": "execute_result"
    }
   ],
   "source": [
    "main_data['name'][0]"
   ]
  },
  {
   "cell_type": "markdown",
   "id": "a2f404dc",
   "metadata": {},
   "source": [
    "## Pandas Indexing"
   ]
  },
  {
   "cell_type": "markdown",
   "id": "104aa138",
   "metadata": {},
   "source": [
    "## Index-Based Selection"
   ]
  },
  {
   "cell_type": "code",
   "execution_count": 12,
   "id": "ae8e847b",
   "metadata": {},
   "outputs": [
    {
     "data": {
      "text/plain": [
       "name                 Aruba\n",
       "Longitude       -69.982677\n",
       "Latitude          12.52088\n",
       "continent    North America\n",
       "Name: 0, dtype: object"
      ]
     },
     "execution_count": 12,
     "metadata": {},
     "output_type": "execute_result"
    }
   ],
   "source": [
    "# Pandas has it's own index selection operators they're called loc and iloc. \n",
    "main_data.iloc[0] # To select the first row"
   ]
  },
  {
   "cell_type": "code",
   "execution_count": 13,
   "id": "2cd85e79",
   "metadata": {
    "scrolled": false
   },
   "outputs": [
    {
     "data": {
      "text/plain": [
       "0             Aruba\n",
       "1       Afghanistan\n",
       "2            Angola\n",
       "3          Anguilla\n",
       "4           Albania\n",
       "           ...     \n",
       "236           Samoa\n",
       "237           Yemen\n",
       "238    South Africa\n",
       "239          Zambia\n",
       "240        Zimbabwe\n",
       "Name: name, Length: 241, dtype: object"
      ]
     },
     "execution_count": 13,
     "metadata": {},
     "output_type": "execute_result"
    }
   ],
   "source": [
    "main_data.iloc[:,0] # To retrieve the full column"
   ]
  },
  {
   "cell_type": "markdown",
   "id": "7ebe71b5",
   "metadata": {},
   "source": [
    "## Label-based Selection"
   ]
  },
  {
   "cell_type": "code",
   "execution_count": 14,
   "id": "8661f5db",
   "metadata": {},
   "outputs": [
    {
     "data": {
      "text/plain": [
       "'Aruba'"
      ]
     },
     "execution_count": 14,
     "metadata": {},
     "output_type": "execute_result"
    }
   ],
   "source": [
    "main_data.loc[0,'name']"
   ]
  },
  {
   "cell_type": "markdown",
   "id": "4e779745",
   "metadata": {},
   "source": [
    "## Manipulating the index"
   ]
  },
  {
   "cell_type": "code",
   "execution_count": 15,
   "id": "f9138810",
   "metadata": {},
   "outputs": [
    {
     "data": {
      "text/html": [
       "<div>\n",
       "<style scoped>\n",
       "    .dataframe tbody tr th:only-of-type {\n",
       "        vertical-align: middle;\n",
       "    }\n",
       "\n",
       "    .dataframe tbody tr th {\n",
       "        vertical-align: top;\n",
       "    }\n",
       "\n",
       "    .dataframe thead th {\n",
       "        text-align: right;\n",
       "    }\n",
       "</style>\n",
       "<table border=\"1\" class=\"dataframe\">\n",
       "  <thead>\n",
       "    <tr style=\"text-align: right;\">\n",
       "      <th></th>\n",
       "      <th>Longitude</th>\n",
       "      <th>Latitude</th>\n",
       "      <th>continent</th>\n",
       "    </tr>\n",
       "    <tr>\n",
       "      <th>name</th>\n",
       "      <th></th>\n",
       "      <th></th>\n",
       "      <th></th>\n",
       "    </tr>\n",
       "  </thead>\n",
       "  <tbody>\n",
       "    <tr>\n",
       "      <th>Aruba</th>\n",
       "      <td>-69.982677</td>\n",
       "      <td>12.520880</td>\n",
       "      <td>North America</td>\n",
       "    </tr>\n",
       "    <tr>\n",
       "      <th>Afghanistan</th>\n",
       "      <td>66.004734</td>\n",
       "      <td>33.835231</td>\n",
       "      <td>Asia</td>\n",
       "    </tr>\n",
       "    <tr>\n",
       "      <th>Angola</th>\n",
       "      <td>17.537368</td>\n",
       "      <td>-12.293361</td>\n",
       "      <td>Africa</td>\n",
       "    </tr>\n",
       "    <tr>\n",
       "      <th>Anguilla</th>\n",
       "      <td>-63.064989</td>\n",
       "      <td>18.223959</td>\n",
       "      <td>North America</td>\n",
       "    </tr>\n",
       "    <tr>\n",
       "      <th>Albania</th>\n",
       "      <td>20.049834</td>\n",
       "      <td>41.142450</td>\n",
       "      <td>Europe</td>\n",
       "    </tr>\n",
       "    <tr>\n",
       "      <th>...</th>\n",
       "      <td>...</td>\n",
       "      <td>...</td>\n",
       "      <td>...</td>\n",
       "    </tr>\n",
       "    <tr>\n",
       "      <th>Samoa</th>\n",
       "      <td>-172.164851</td>\n",
       "      <td>-13.753243</td>\n",
       "      <td>Oceania</td>\n",
       "    </tr>\n",
       "    <tr>\n",
       "      <th>Yemen</th>\n",
       "      <td>47.586762</td>\n",
       "      <td>15.909280</td>\n",
       "      <td>Asia</td>\n",
       "    </tr>\n",
       "    <tr>\n",
       "      <th>South Africa</th>\n",
       "      <td>25.083901</td>\n",
       "      <td>-29.000341</td>\n",
       "      <td>Africa</td>\n",
       "    </tr>\n",
       "    <tr>\n",
       "      <th>Zambia</th>\n",
       "      <td>27.774759</td>\n",
       "      <td>-13.458242</td>\n",
       "      <td>Africa</td>\n",
       "    </tr>\n",
       "    <tr>\n",
       "      <th>Zimbabwe</th>\n",
       "      <td>29.851441</td>\n",
       "      <td>-19.004204</td>\n",
       "      <td>Africa</td>\n",
       "    </tr>\n",
       "  </tbody>\n",
       "</table>\n",
       "<p>241 rows × 3 columns</p>\n",
       "</div>"
      ],
      "text/plain": [
       "               Longitude   Latitude      continent\n",
       "name                                              \n",
       "Aruba         -69.982677  12.520880  North America\n",
       "Afghanistan    66.004734  33.835231           Asia\n",
       "Angola         17.537368 -12.293361         Africa\n",
       "Anguilla      -63.064989  18.223959  North America\n",
       "Albania        20.049834  41.142450         Europe\n",
       "...                  ...        ...            ...\n",
       "Samoa        -172.164851 -13.753243        Oceania\n",
       "Yemen          47.586762  15.909280           Asia\n",
       "South Africa   25.083901 -29.000341         Africa\n",
       "Zambia         27.774759 -13.458242         Africa\n",
       "Zimbabwe       29.851441 -19.004204         Africa\n",
       "\n",
       "[241 rows x 3 columns]"
      ]
     },
     "execution_count": 15,
     "metadata": {},
     "output_type": "execute_result"
    }
   ],
   "source": [
    "# The index may always be manipulated, here the title column will be used.\n",
    "main_data.set_index('name')"
   ]
  },
  {
   "cell_type": "markdown",
   "id": "b3ee0b8f",
   "metadata": {},
   "source": [
    "## Conditional Selection"
   ]
  },
  {
   "cell_type": "code",
   "execution_count": 16,
   "id": "d6d3eb12",
   "metadata": {},
   "outputs": [
    {
     "data": {
      "text/plain": [
       "0       True\n",
       "1      False\n",
       "2      False\n",
       "3       True\n",
       "4      False\n",
       "       ...  \n",
       "236    False\n",
       "237    False\n",
       "238    False\n",
       "239    False\n",
       "240    False\n",
       "Name: continent, Length: 241, dtype: bool"
      ]
     },
     "execution_count": 16,
     "metadata": {},
     "output_type": "execute_result"
    }
   ],
   "source": [
    "# There's a way to check if a condition is met in pandas, by using a default python logic.\n",
    "main_data.continent == \"North America\""
   ]
  },
  {
   "cell_type": "code",
   "execution_count": 17,
   "id": "87c46340",
   "metadata": {
    "scrolled": true
   },
   "outputs": [
    {
     "data": {
      "text/html": [
       "<div>\n",
       "<style scoped>\n",
       "    .dataframe tbody tr th:only-of-type {\n",
       "        vertical-align: middle;\n",
       "    }\n",
       "\n",
       "    .dataframe tbody tr th {\n",
       "        vertical-align: top;\n",
       "    }\n",
       "\n",
       "    .dataframe thead th {\n",
       "        text-align: right;\n",
       "    }\n",
       "</style>\n",
       "<table border=\"1\" class=\"dataframe\">\n",
       "  <thead>\n",
       "    <tr style=\"text-align: right;\">\n",
       "      <th></th>\n",
       "      <th>name</th>\n",
       "      <th>Longitude</th>\n",
       "      <th>Latitude</th>\n",
       "      <th>continent</th>\n",
       "    </tr>\n",
       "  </thead>\n",
       "  <tbody>\n",
       "    <tr>\n",
       "      <th>0</th>\n",
       "      <td>Aruba</td>\n",
       "      <td>-69.982677</td>\n",
       "      <td>12.520880</td>\n",
       "      <td>North America</td>\n",
       "    </tr>\n",
       "    <tr>\n",
       "      <th>3</th>\n",
       "      <td>Anguilla</td>\n",
       "      <td>-63.064989</td>\n",
       "      <td>18.223959</td>\n",
       "      <td>North America</td>\n",
       "    </tr>\n",
       "    <tr>\n",
       "      <th>14</th>\n",
       "      <td>Antigua and Barb.</td>\n",
       "      <td>-61.794693</td>\n",
       "      <td>17.277500</td>\n",
       "      <td>North America</td>\n",
       "    </tr>\n",
       "    <tr>\n",
       "      <th>25</th>\n",
       "      <td>Canada</td>\n",
       "      <td>-98.307770</td>\n",
       "      <td>61.362063</td>\n",
       "      <td>North America</td>\n",
       "    </tr>\n",
       "    <tr>\n",
       "      <th>26</th>\n",
       "      <td>Bahamas</td>\n",
       "      <td>-76.628430</td>\n",
       "      <td>24.290367</td>\n",
       "      <td>North America</td>\n",
       "    </tr>\n",
       "    <tr>\n",
       "      <th>28</th>\n",
       "      <td>St-BarthÃ©lemy</td>\n",
       "      <td>-62.840678</td>\n",
       "      <td>17.898805</td>\n",
       "      <td>North America</td>\n",
       "    </tr>\n",
       "    <tr>\n",
       "      <th>30</th>\n",
       "      <td>Belize</td>\n",
       "      <td>-88.710105</td>\n",
       "      <td>17.200275</td>\n",
       "      <td>North America</td>\n",
       "    </tr>\n",
       "    <tr>\n",
       "      <th>31</th>\n",
       "      <td>Bermuda</td>\n",
       "      <td>-64.754559</td>\n",
       "      <td>32.313678</td>\n",
       "      <td>North America</td>\n",
       "    </tr>\n",
       "    <tr>\n",
       "      <th>34</th>\n",
       "      <td>Barbados</td>\n",
       "      <td>-59.559797</td>\n",
       "      <td>13.181454</td>\n",
       "      <td>North America</td>\n",
       "    </tr>\n",
       "    <tr>\n",
       "      <th>50</th>\n",
       "      <td>Costa Rica</td>\n",
       "      <td>-84.192088</td>\n",
       "      <td>9.976345</td>\n",
       "      <td>North America</td>\n",
       "    </tr>\n",
       "    <tr>\n",
       "      <th>51</th>\n",
       "      <td>Cuba</td>\n",
       "      <td>-79.016054</td>\n",
       "      <td>21.622895</td>\n",
       "      <td>North America</td>\n",
       "    </tr>\n",
       "    <tr>\n",
       "      <th>52</th>\n",
       "      <td>CuraÃ§ao</td>\n",
       "      <td>-68.971194</td>\n",
       "      <td>12.195517</td>\n",
       "      <td>North America</td>\n",
       "    </tr>\n",
       "    <tr>\n",
       "      <th>53</th>\n",
       "      <td>Cayman Is.</td>\n",
       "      <td>-80.912133</td>\n",
       "      <td>19.428965</td>\n",
       "      <td>North America</td>\n",
       "    </tr>\n",
       "    <tr>\n",
       "      <th>59</th>\n",
       "      <td>Dominica</td>\n",
       "      <td>-61.357726</td>\n",
       "      <td>15.439470</td>\n",
       "      <td>North America</td>\n",
       "    </tr>\n",
       "    <tr>\n",
       "      <th>61</th>\n",
       "      <td>Dominican Rep.</td>\n",
       "      <td>-70.505689</td>\n",
       "      <td>18.894331</td>\n",
       "      <td>North America</td>\n",
       "    </tr>\n",
       "    <tr>\n",
       "      <th>85</th>\n",
       "      <td>Grenada</td>\n",
       "      <td>-61.682202</td>\n",
       "      <td>12.117250</td>\n",
       "      <td>North America</td>\n",
       "    </tr>\n",
       "    <tr>\n",
       "      <th>86</th>\n",
       "      <td>Greenland</td>\n",
       "      <td>-41.341911</td>\n",
       "      <td>74.710513</td>\n",
       "      <td>North America</td>\n",
       "    </tr>\n",
       "    <tr>\n",
       "      <th>87</th>\n",
       "      <td>Guatemala</td>\n",
       "      <td>-90.364820</td>\n",
       "      <td>15.694037</td>\n",
       "      <td>North America</td>\n",
       "    </tr>\n",
       "    <tr>\n",
       "      <th>92</th>\n",
       "      <td>Honduras</td>\n",
       "      <td>-86.615166</td>\n",
       "      <td>14.826882</td>\n",
       "      <td>North America</td>\n",
       "    </tr>\n",
       "    <tr>\n",
       "      <th>94</th>\n",
       "      <td>Haiti</td>\n",
       "      <td>-72.685275</td>\n",
       "      <td>18.935026</td>\n",
       "      <td>North America</td>\n",
       "    </tr>\n",
       "    <tr>\n",
       "      <th>107</th>\n",
       "      <td>Jamaica</td>\n",
       "      <td>-77.314826</td>\n",
       "      <td>18.156949</td>\n",
       "      <td>North America</td>\n",
       "    </tr>\n",
       "    <tr>\n",
       "      <th>117</th>\n",
       "      <td>St. Kitts and Nevis</td>\n",
       "      <td>-62.687553</td>\n",
       "      <td>17.264599</td>\n",
       "      <td>North America</td>\n",
       "    </tr>\n",
       "    <tr>\n",
       "      <th>125</th>\n",
       "      <td>Saint Lucia</td>\n",
       "      <td>-60.969699</td>\n",
       "      <td>13.894795</td>\n",
       "      <td>North America</td>\n",
       "    </tr>\n",
       "    <tr>\n",
       "      <th>133</th>\n",
       "      <td>St-Martin</td>\n",
       "      <td>-63.059729</td>\n",
       "      <td>18.088886</td>\n",
       "      <td>North America</td>\n",
       "    </tr>\n",
       "    <tr>\n",
       "      <th>139</th>\n",
       "      <td>Mexico</td>\n",
       "      <td>-102.523452</td>\n",
       "      <td>23.947537</td>\n",
       "      <td>North America</td>\n",
       "    </tr>\n",
       "    <tr>\n",
       "      <th>150</th>\n",
       "      <td>Montserrat</td>\n",
       "      <td>-62.185185</td>\n",
       "      <td>16.739414</td>\n",
       "      <td>North America</td>\n",
       "    </tr>\n",
       "    <tr>\n",
       "      <th>159</th>\n",
       "      <td>Nicaragua</td>\n",
       "      <td>-85.030530</td>\n",
       "      <td>12.847094</td>\n",
       "      <td>North America</td>\n",
       "    </tr>\n",
       "    <tr>\n",
       "      <th>168</th>\n",
       "      <td>Panama</td>\n",
       "      <td>-80.119152</td>\n",
       "      <td>8.517508</td>\n",
       "      <td>North America</td>\n",
       "    </tr>\n",
       "    <tr>\n",
       "      <th>175</th>\n",
       "      <td>Puerto Rico</td>\n",
       "      <td>-66.473076</td>\n",
       "      <td>18.228131</td>\n",
       "      <td>North America</td>\n",
       "    </tr>\n",
       "    <tr>\n",
       "      <th>195</th>\n",
       "      <td>El Salvador</td>\n",
       "      <td>-88.871645</td>\n",
       "      <td>13.739437</td>\n",
       "      <td>North America</td>\n",
       "    </tr>\n",
       "    <tr>\n",
       "      <th>199</th>\n",
       "      <td>St. Pierre and Miquelon</td>\n",
       "      <td>-56.303198</td>\n",
       "      <td>46.919188</td>\n",
       "      <td>North America</td>\n",
       "    </tr>\n",
       "    <tr>\n",
       "      <th>207</th>\n",
       "      <td>Sint Maarten</td>\n",
       "      <td>-63.057134</td>\n",
       "      <td>18.050817</td>\n",
       "      <td>North America</td>\n",
       "    </tr>\n",
       "    <tr>\n",
       "      <th>210</th>\n",
       "      <td>Turks and Caicos Is.</td>\n",
       "      <td>-71.973879</td>\n",
       "      <td>21.830476</td>\n",
       "      <td>North America</td>\n",
       "    </tr>\n",
       "    <tr>\n",
       "      <th>218</th>\n",
       "      <td>Trinidad and Tobago</td>\n",
       "      <td>-61.265679</td>\n",
       "      <td>10.457334</td>\n",
       "      <td>North America</td>\n",
       "    </tr>\n",
       "    <tr>\n",
       "      <th>226</th>\n",
       "      <td>United States</td>\n",
       "      <td>-112.461674</td>\n",
       "      <td>45.679547</td>\n",
       "      <td>North America</td>\n",
       "    </tr>\n",
       "    <tr>\n",
       "      <th>229</th>\n",
       "      <td>St. Vin. and Gren.</td>\n",
       "      <td>-61.201297</td>\n",
       "      <td>13.224723</td>\n",
       "      <td>North America</td>\n",
       "    </tr>\n",
       "    <tr>\n",
       "      <th>231</th>\n",
       "      <td>British Virgin Is.</td>\n",
       "      <td>-64.471470</td>\n",
       "      <td>18.525858</td>\n",
       "      <td>North America</td>\n",
       "    </tr>\n",
       "    <tr>\n",
       "      <th>232</th>\n",
       "      <td>U.S. Virgin Is.</td>\n",
       "      <td>-64.803015</td>\n",
       "      <td>17.955006</td>\n",
       "      <td>North America</td>\n",
       "    </tr>\n",
       "  </tbody>\n",
       "</table>\n",
       "</div>"
      ],
      "text/plain": [
       "                        name   Longitude   Latitude      continent\n",
       "0                      Aruba  -69.982677  12.520880  North America\n",
       "3                   Anguilla  -63.064989  18.223959  North America\n",
       "14         Antigua and Barb.  -61.794693  17.277500  North America\n",
       "25                    Canada  -98.307770  61.362063  North America\n",
       "26                   Bahamas  -76.628430  24.290367  North America\n",
       "28            St-BarthÃ©lemy  -62.840678  17.898805  North America\n",
       "30                    Belize  -88.710105  17.200275  North America\n",
       "31                   Bermuda  -64.754559  32.313678  North America\n",
       "34                  Barbados  -59.559797  13.181454  North America\n",
       "50                Costa Rica  -84.192088   9.976345  North America\n",
       "51                      Cuba  -79.016054  21.622895  North America\n",
       "52                  CuraÃ§ao  -68.971194  12.195517  North America\n",
       "53                Cayman Is.  -80.912133  19.428965  North America\n",
       "59                  Dominica  -61.357726  15.439470  North America\n",
       "61            Dominican Rep.  -70.505689  18.894331  North America\n",
       "85                   Grenada  -61.682202  12.117250  North America\n",
       "86                 Greenland  -41.341911  74.710513  North America\n",
       "87                 Guatemala  -90.364820  15.694037  North America\n",
       "92                  Honduras  -86.615166  14.826882  North America\n",
       "94                     Haiti  -72.685275  18.935026  North America\n",
       "107                  Jamaica  -77.314826  18.156949  North America\n",
       "117      St. Kitts and Nevis  -62.687553  17.264599  North America\n",
       "125              Saint Lucia  -60.969699  13.894795  North America\n",
       "133                St-Martin  -63.059729  18.088886  North America\n",
       "139                   Mexico -102.523452  23.947537  North America\n",
       "150               Montserrat  -62.185185  16.739414  North America\n",
       "159                Nicaragua  -85.030530  12.847094  North America\n",
       "168                   Panama  -80.119152   8.517508  North America\n",
       "175              Puerto Rico  -66.473076  18.228131  North America\n",
       "195              El Salvador  -88.871645  13.739437  North America\n",
       "199  St. Pierre and Miquelon  -56.303198  46.919188  North America\n",
       "207             Sint Maarten  -63.057134  18.050817  North America\n",
       "210     Turks and Caicos Is.  -71.973879  21.830476  North America\n",
       "218      Trinidad and Tobago  -61.265679  10.457334  North America\n",
       "226            United States -112.461674  45.679547  North America\n",
       "229       St. Vin. and Gren.  -61.201297  13.224723  North America\n",
       "231       British Virgin Is.  -64.471470  18.525858  North America\n",
       "232          U.S. Virgin Is.  -64.803015  17.955006  North America"
      ]
     },
     "execution_count": 17,
     "metadata": {},
     "output_type": "execute_result"
    }
   ],
   "source": [
    "# This feature may be used in a loc, to select true values.\n",
    "main_data.loc[main_data.continent == 'North America']"
   ]
  },
  {
   "cell_type": "markdown",
   "id": "1950ec0e",
   "metadata": {},
   "source": [
    "## Assigning data\n",
    "A constant value may be assigned to a column or iterable values"
   ]
  },
  {
   "cell_type": "code",
   "execution_count": 18,
   "id": "87c59d89",
   "metadata": {},
   "outputs": [],
   "source": [
    "main_data['located'] = 'mainland'"
   ]
  },
  {
   "cell_type": "code",
   "execution_count": 19,
   "id": "5284cb77",
   "metadata": {},
   "outputs": [
    {
     "data": {
      "text/plain": [
       "0      mainland\n",
       "1      mainland\n",
       "2      mainland\n",
       "3      mainland\n",
       "4      mainland\n",
       "         ...   \n",
       "236    mainland\n",
       "237    mainland\n",
       "238    mainland\n",
       "239    mainland\n",
       "240    mainland\n",
       "Name: located, Length: 241, dtype: object"
      ]
     },
     "execution_count": 19,
     "metadata": {},
     "output_type": "execute_result"
    }
   ],
   "source": [
    "main_data['located']"
   ]
  },
  {
   "cell_type": "code",
   "execution_count": null,
   "id": "5497ed83",
   "metadata": {},
   "outputs": [],
   "source": []
  }
 ],
 "metadata": {
  "kernelspec": {
   "display_name": "Python 3 (ipykernel)",
   "language": "python",
   "name": "python3"
  },
  "language_info": {
   "codemirror_mode": {
    "name": "ipython",
    "version": 3
   },
   "file_extension": ".py",
   "mimetype": "text/x-python",
   "name": "python",
   "nbconvert_exporter": "python",
   "pygments_lexer": "ipython3",
   "version": "3.10.7"
  }
 },
 "nbformat": 4,
 "nbformat_minor": 5
}
