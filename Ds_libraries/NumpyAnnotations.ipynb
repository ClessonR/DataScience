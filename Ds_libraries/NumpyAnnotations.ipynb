{
 "cells": [
  {
   "cell_type": "markdown",
   "id": "3fc5cb8a",
   "metadata": {},
   "source": [
    "# Numpy Annotations"
   ]
  },
  {
   "cell_type": "code",
   "execution_count": 5,
   "id": "c82b3d92",
   "metadata": {},
   "outputs": [],
   "source": [
    "import numpy as np\n",
    "import matplotlib.pyplot as plt"
   ]
  },
  {
   "cell_type": "code",
   "execution_count": 6,
   "id": "b0fa0b06",
   "metadata": {},
   "outputs": [
    {
     "name": "stdout",
     "output_type": "stream",
     "text": [
      "[1 2 3]\n",
      "<class 'numpy.ndarray'>\n"
     ]
    }
   ],
   "source": [
    "x = np.array([1,2,3])\n",
    "x\n",
    "\n",
    "list1 = [1,2,3] # Lists may also be used as an ndarray\n",
    "x = np.array(list1)\n",
    "print(x)\n",
    "print(type(x))\n"
   ]
  },
  {
   "cell_type": "markdown",
   "id": "1fe0fef3",
   "metadata": {},
   "source": [
    "# Numpy Data Types\n",
    "https://numpy.org/doc/stable/user/basics.types.html\n",
    "\n",
    "https://numpy.org/doc/stable/reference/arrays.dtypes.html#arrays-dtypes"
   ]
  },
  {
   "cell_type": "code",
   "execution_count": 9,
   "id": "786848ca",
   "metadata": {
    "scrolled": true
   },
   "outputs": [],
   "source": [
    "x = np.array(list1, dtype = np.int8)"
   ]
  },
  {
   "cell_type": "markdown",
   "id": "9d988d43",
   "metadata": {},
   "source": [
    "## Multidimensional Arrays"
   ]
  },
  {
   "cell_type": "code",
   "execution_count": 17,
   "id": "23c553c7",
   "metadata": {},
   "outputs": [
    {
     "name": "stdout",
     "output_type": "stream",
     "text": [
      "It has 2 entitites of 3 elements in it: (2, 3)\n",
      "[[1 2 3]\n",
      " [4 5 6]]\n"
     ]
    }
   ],
   "source": [
    "x = np.array([[1,2,3],[4,5,6]], np.uint8)\n",
    "print(f\"It has 2 entitites of 3 elements in it:\", x.shape)\n",
    "print(x)"
   ]
  },
  {
   "cell_type": "code",
   "execution_count": 18,
   "id": "cb8bb901",
   "metadata": {},
   "outputs": [
    {
     "data": {
      "text/plain": [
       "array([1, 4], dtype=uint8)"
      ]
     },
     "execution_count": 18,
     "metadata": {},
     "output_type": "execute_result"
    }
   ],
   "source": [
    "x[:,0] # Acessing the entire column"
   ]
  },
  {
   "cell_type": "code",
   "execution_count": 20,
   "id": "95058c95",
   "metadata": {},
   "outputs": [
    {
     "data": {
      "text/plain": [
       "array([1, 2, 3], dtype=uint8)"
      ]
     },
     "execution_count": 20,
     "metadata": {},
     "output_type": "execute_result"
    }
   ],
   "source": [
    "x[0,:] # Acessing the entire row"
   ]
  },
  {
   "cell_type": "code",
   "execution_count": 22,
   "id": "6736397e",
   "metadata": {},
   "outputs": [],
   "source": [
    "x = np.array([[[1,2,3],[4,5,6]],[[2,3,4],[5,6,7]]], np.uint8)"
   ]
  },
  {
   "cell_type": "code",
   "execution_count": 25,
   "id": "6dc6e2dd",
   "metadata": {},
   "outputs": [
    {
     "name": "stdout",
     "output_type": "stream",
     "text": [
      "It has 2 arrays of 2 arrays with 3 elements in each one: (2, 2, 3) \n",
      " It also has 3 dimensions. 3\n",
      "[[[1 2 3]\n",
      "  [4 5 6]]\n",
      "\n",
      " [[2 3 4]\n",
      "  [5 6 7]]]\n"
     ]
    }
   ],
   "source": [
    "print(f\"It has 2 arrays of 2 arrays with 3 elements in each one:\", x.shape,\"\\n\",\"It also has 3 dimensions.\", x.ndim)\n",
    "print(x)"
   ]
  },
  {
   "cell_type": "markdown",
   "id": "b4e84152",
   "metadata": {},
   "source": [
    "# Numpy Methods"
   ]
  },
  {
   "cell_type": "code",
   "execution_count": 26,
   "id": "99305202",
   "metadata": {},
   "outputs": [
    {
     "name": "stdout",
     "output_type": "stream",
     "text": [
      "(2, 2, 3) 12 3 12\n"
     ]
    }
   ],
   "source": [
    " print(x.shape, x.size, x.ndim,x.nbytes)"
   ]
  },
  {
   "cell_type": "markdown",
   "id": "7ee56db0",
   "metadata": {},
   "source": [
    "## Creating Matrices with ones and zeros"
   ]
  },
  {
   "cell_type": "code",
   "execution_count": 32,
   "id": "3da6637d",
   "metadata": {},
   "outputs": [],
   "source": [
    "x = np.empty([3,3],np.uint8) # it creates an 3x3 array of random numbers"
   ]
  },
  {
   "cell_type": "code",
   "execution_count": 33,
   "id": "cfd2a98a",
   "metadata": {},
   "outputs": [
    {
     "data": {
      "text/plain": [
       "array([[240,   3,  65],\n",
       "       [ 20, 128,   1],\n",
       "       [  0,   0,   0]], dtype=uint8)"
      ]
     },
     "execution_count": 33,
     "metadata": {},
     "output_type": "execute_result"
    }
   ],
   "source": [
    "x"
   ]
  },
  {
   "cell_type": "code",
   "execution_count": 34,
   "id": "0cfe2c82",
   "metadata": {},
   "outputs": [],
   "source": [
    "y = np.eye(5, dtype=np.uint8)"
   ]
  },
  {
   "cell_type": "code",
   "execution_count": 35,
   "id": "1df34ba1",
   "metadata": {},
   "outputs": [
    {
     "data": {
      "text/plain": [
       "array([[1, 0, 0, 0, 0],\n",
       "       [0, 1, 0, 0, 0],\n",
       "       [0, 0, 1, 0, 0],\n",
       "       [0, 0, 0, 1, 0],\n",
       "       [0, 0, 0, 0, 1]], dtype=uint8)"
      ]
     },
     "execution_count": 35,
     "metadata": {},
     "output_type": "execute_result"
    }
   ],
   "source": [
    "y"
   ]
  },
  {
   "cell_type": "markdown",
   "id": "5aed8591",
   "metadata": {},
   "source": [
    " ## Useful Numpy Operations\n"
   ]
  },
  {
   "cell_type": "markdown",
   "id": "ecf11794",
   "metadata": {},
   "source": [
    "np.unique()\n"
   ]
  },
  {
   "cell_type": "code",
   "execution_count": null,
   "id": "63b54295",
   "metadata": {},
   "outputs": [],
   "source": []
  }
 ],
 "metadata": {
  "kernelspec": {
   "display_name": "Python 3 (ipykernel)",
   "language": "python",
   "name": "python3"
  },
  "language_info": {
   "codemirror_mode": {
    "name": "ipython",
    "version": 3
   },
   "file_extension": ".py",
   "mimetype": "text/x-python",
   "name": "python",
   "nbconvert_exporter": "python",
   "pygments_lexer": "ipython3",
   "version": "3.10.7"
  }
 },
 "nbformat": 4,
 "nbformat_minor": 5
}
